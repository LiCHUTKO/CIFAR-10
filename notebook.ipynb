{
 "cells": [
  {
   "cell_type": "markdown",
   "metadata": {},
   "source": [
    "# Załadowanie potrzebnych bibliotek\n",
    "\n",
    "### Wyjaśnienie kodu\n",
    "\n",
    "Ten kod importuje kilka bibliotek i modułów niezbędnych do budowania i trenowania sieci neuronowej za pomocą TensorFlow i Keras, a także do obsługi i wizualizacji danych.\n",
    "\n",
    "1. **Importy TensorFlow i Keras:**\n",
    "   - `import tensorflow as tf`: Importuje bibliotekę TensorFlow, która jest otwartą platformą do uczenia maszynowego.\n",
    "   - `from tensorflow.keras.datasets import cifar10`: Importuje zbiór danych CIFAR-10 z Keras, który jest wysokopoziomowym API do budowania i trenowania modeli głębokiego uczenia. CIFAR-10 to zbiór danych zawierający 60,000 kolorowych obrazów w 10 klasach, z 6,000 obrazami na klasę.\n",
    "   - `from tensorflow.keras.models import Sequential`: Importuje model Sequential, który jest liniowym stosikiem warstw.\n",
    "   - `from tensorflow.keras.layers import Dense, Flatten, Conv2D, MaxPooling2D`: Importuje warstwy Dense, Flatten, Conv2D i MaxPooling2D. Dense to w pełni połączona warstwa, Flatten służy do spłaszczania wejścia, Conv2D to warstwa konwolucyjna, a MaxPooling2D to warstwa maksymalnego próbkowania.\n",
    "   - `from tensorflow.keras.optimizers import Adam`: Importuje optymalizator Adam, który jest algorytmem do optymalizacji gradientowej pierwszego rzędu.\n",
    "   - `from tensorflow.keras.losses import sparse_categorical_crossentropy`: Importuje funkcję straty sparse categorical cross-entropy, która jest używana do problemów klasyfikacji wieloklasowej.\n",
    "\n",
    "2. **Importy Matplotlib i NumPy:**\n",
    "   - `import matplotlib.pyplot as plt`: Importuje bibliotekę Matplotlib do tworzenia wykresów i wizualizacji danych.\n",
    "   - `import numpy as np`: Importuje bibliotekę NumPy, która jest używana do operacji numerycznych na tablicach.\n",
    "\n",
    "3. **Import PIL:**\n",
    "   - `from PIL import Image`: Importuje moduł Image z biblioteki Python Imaging Library (PIL), który jest używany do otwierania, manipulowania i zapisywania plików obrazów."
   ]
  },
  {
   "cell_type": "code",
   "execution_count": null,
   "metadata": {},
   "outputs": [],
   "source": [
    "import tensorflow as tf\n",
    "from tensorflow.keras.datasets import cifar10\n",
    "from tensorflow.keras.models import Sequential\n",
    "from tensorflow.keras.layers import Dense, Flatten, Conv2D, MaxPooling2D\n",
    "from tensorflow.keras.optimizers import Adam\n",
    "from tensorflow.keras.losses import sparse_categorical_crossentropy\n",
    "import matplotlib.pyplot as plt\n",
    "import numpy as np\n",
    "from PIL import Image"
   ]
  },
  {
   "cell_type": "markdown",
   "metadata": {},
   "source": [
    "# Załadowanie i normalizacja danych\n",
    "\n",
    "### Wyjaśnienie kodu\n",
    "\n",
    "Ten fragment kodu ładuje zbiór danych CIFAR-10 i normalizuje dane, przeskalowując wartości pikseli do zakresu [0, 1]. Dodatkowo wyświetla kształty załadowanych danych oraz przykładowy obraz z etykietą.\n",
    "\n",
    "1. **Ładowanie zbioru danych CIFAR-10:**\n",
    "   - `cifar10.load_data()`: Funkcja ta ładuje zbiór danych CIFAR-10, który zawiera kolorowe obrazy w 10 klasach (np. samoloty, samochody, ptaki, koty, jelenie, psy, żaby, konie, statki, ciężarówki).\n",
    "   - `x_train` i `y_train`: `x_train` to zestaw treningowy obrazów, a `y_train` to odpowiadające im etykiety.\n",
    "   - `x_test` i `y_test`: `x_test` to zestaw testowy obrazów, a `y_test` to odpowiadające im etykiety.\n",
    "\n",
    "2. **Normalizacja danych:**\n",
    "   - Normalizacja polega na przeskalowaniu wartości pikseli z zakresu [0, 255] do zakresu [0, 1].\n",
    "   - `x_train / 255.0`: Każdy piksel w zestawie treningowym jest dzielony przez 255.0, aby przeskalować wartości do zakresu [0, 1].\n",
    "   - `x_test / 255.0`: Każdy piksel w zestawie testowym jest dzielony przez 255.0, aby przeskalować wartości do zakresu [0, 1].\n",
    "\n",
    "3. **Wyświetlenie kształtów danych:**\n",
    "   - `x_train.shape`: Wyświetla kształt tablicy `x_train`, który powinien być `(50000, 32, 32, 3)` - 50,000 obrazów o wymiarach 32x32 piksele z 3 kanałami kolorów (RGB).\n",
    "   - `y_train.shape`: Wyświetla kształt tablicy `y_train`, który powinien być `(50000, 1)` - 50,000 etykiet.\n",
    "   - `x_test.shape`: Wyświetla kształt tablicy `x_test`, który powinien być `(10000, 32, 32, 3)` - 10,000 obrazów testowych.\n",
    "   - `y_test.shape`: Wyświetla kształt tablicy `y_test`, który powinien być `(10000, 1)` - 10,000 etykiet testowych.\n",
    "\n",
    "4. **Wyświetlenie przykładowego obrazu z etykietą:**\n",
    "   - `plt.imshow(x_train[0])`: Wyświetla pierwszy obraz z zestawu treningowego.\n",
    "   - `plt.title(f\"Label: {y_train[0]}\")`: Ustawia tytuł wykresu na etykietę odpowiadającą pierwszemu obrazowi.\n",
    "   - `plt.show()`: Wyświetla wykres z obrazem."
   ]
  },
  {
   "cell_type": "code",
   "execution_count": null,
   "metadata": {},
   "outputs": [],
   "source": [
    "(x_train, y_train), (x_test, y_test) = cifar10.load_data()\n",
    "\n",
    "x_train, x_test = x_train / 255.0, x_test / 255.0\n",
    "\n",
    "print(f\"x_train shape: {x_train.shape}\")\n",
    "print(f\"y_train shape: {y_train.shape}\")\n",
    "print(f\"x_test shape: {x_test.shape}\")\n",
    "print(f\"y_test shape: {y_test.shape}\")\n",
    "\n",
    "plt.imshow(x_train[0])\n",
    "plt.title(f\"Label: {y_train[0]}\")\n",
    "plt.show()"
   ]
  },
  {
   "cell_type": "markdown",
   "metadata": {},
   "source": [
    "# Visualize CIFAR-10 Data\n",
    "Visualize some examples from the CIFAR-10 dataset to understand the data."
   ]
  },
  {
   "cell_type": "code",
   "execution_count": null,
   "metadata": {},
   "outputs": [],
   "source": [
    "# Visualize CIFAR-10 Data\n",
    "\n",
    "# Define class names for CIFAR-10 dataset\n",
    "class_names = ['airplane', 'automobile', 'bird', 'cat', 'deer', 'dog', 'frog', 'horse', 'ship', 'truck']\n",
    "\n",
    "# Function to plot images from the CIFAR-10 dataset\n",
    "def plot_cifar10_images(images, labels, class_names, num_images=10):\n",
    "    plt.figure(figsize=(10, 10))\n",
    "    for i in range(num_images):\n",
    "        plt.subplot(5, 5, i + 1)\n",
    "        plt.xticks([])\n",
    "        plt.yticks([])\n",
    "        plt.grid(False)\n",
    "        plt.imshow(images[i])\n",
    "        plt.xlabel(class_names[labels[i][0]])\n",
    "    plt.show()\n",
    "\n",
    "# Plot the first 25 images from the training set\n",
    "plot_cifar10_images(x_train, y_train, class_names, num_images=25)"
   ]
  },
  {
   "cell_type": "markdown",
   "metadata": {},
   "source": [
    "# Create the Model\n",
    "Create a Sequential model using Keras with appropriate layers for the CIFAR-10 dataset."
   ]
  },
  {
   "cell_type": "code",
   "execution_count": null,
   "metadata": {},
   "outputs": [],
   "source": [
    "# Create the Model\n",
    "\n",
    "# Create a Sequential model\n",
    "model = Sequential([\n",
    "    # Add a Conv2D layer with 32 filters, kernel size of 3x3, ReLU activation, and input shape of 32x32x3\n",
    "    Conv2D(32, (3, 3), activation='relu', input_shape=(32, 32, 3)),\n",
    "    # Add a MaxPooling2D layer with pool size of 2x2\n",
    "    MaxPooling2D((2, 2)),\n",
    "    # Add another Conv2D layer with 64 filters and kernel size of 3x3\n",
    "    Conv2D(64, (3, 3), activation='relu'),\n",
    "    # Add another MaxPooling2D layer with pool size of 2x2\n",
    "    MaxPooling2D((2, 2)),\n",
    "    # Add another Conv2D layer with 64 filters and kernel size of 3x3\n",
    "    Conv2D(64, (3, 3), activation='relu'),\n",
    "    # Flatten the output from the previous layer\n",
    "    Flatten(),\n",
    "    # Add a Dense layer with 64 units and ReLU activation\n",
    "    Dense(64, activation='relu'),\n",
    "    # Add a Dense layer with 10 units and softmax activation for the output layer\n",
    "    Dense(10, activation='softmax')\n",
    "])\n",
    "\n",
    "# Display the model summary\n",
    "model.summary()"
   ]
  },
  {
   "cell_type": "markdown",
   "metadata": {},
   "source": [
    "# Compile and Train the Model\n",
    "Compile the model with an optimizer, loss function, and metrics, then train the model on the CIFAR-10 training data."
   ]
  },
  {
   "cell_type": "code",
   "execution_count": null,
   "metadata": {},
   "outputs": [],
   "source": [
    "# Compile the Model\n",
    "\n",
    "# Compile the model with Adam optimizer, sparse categorical cross-entropy loss, and accuracy metric\n",
    "model.compile(optimizer=Adam(),\n",
    "              loss=sparse_categorical_crossentropy,\n",
    "              metrics=['accuracy'])\n",
    "\n",
    "# Train the Model\n",
    "\n",
    "# Train the model on the CIFAR-10 training data for 10 epochs with 20% validation split\n",
    "history = model.fit(x_train, y_train,\n",
    "                    validation_split=0.2,\n",
    "                    epochs=10)"
   ]
  },
  {
   "cell_type": "markdown",
   "metadata": {},
   "source": [
    "# Evaluate the Model\n",
    "Evaluate the trained model on the CIFAR-10 test data and display the accuracy and loss."
   ]
  },
  {
   "cell_type": "code",
   "execution_count": null,
   "metadata": {},
   "outputs": [],
   "source": [
    "# Evaluate the Model\n",
    "\n",
    "# Evaluate the model on the CIFAR-10 test data\n",
    "test_loss, test_acc = model.evaluate(x_test, y_test)\n",
    "\n",
    "# Display the accuracy and loss\n",
    "print(f\"Test accuracy: {test_acc * 100:.2f}%\")\n",
    "print(f\"Test loss: {test_loss:.4f}\")"
   ]
  },
  {
   "cell_type": "markdown",
   "metadata": {},
   "source": [
    "# Make Predictions and Visualize Results\n",
    "Make predictions on the CIFAR-10 test data, visualize the results, and compare predicted labels with actual labels."
   ]
  },
  {
   "cell_type": "code",
   "execution_count": null,
   "metadata": {},
   "outputs": [],
   "source": [
    "# Make Predictions and Visualize Results\n",
    "\n",
    "# Make predictions on the CIFAR-10 test data\n",
    "predictions = model.predict(x_test)\n",
    "\n",
    "# Function to plot CIFAR-10 images with predicted and actual labels\n",
    "def plot_predictions(images, predictions, true_labels, class_names, num_images=10):\n",
    "    plt.figure(figsize=(10, 10))\n",
    "    for i in range(num_images):\n",
    "        plt.subplot(5, 5, i + 1)\n",
    "        plt.xticks([])\n",
    "        plt.yticks([])\n",
    "        plt.grid(False)\n",
    "        plt.imshow(images[i])\n",
    "        predicted_label = np.argmax(predictions[i])\n",
    "        true_label = true_labels[i][0]\n",
    "        color = 'blue' if predicted_label == true_label else 'red'\n",
    "        plt.xlabel(f\"{class_names[predicted_label]} ({class_names[true_label]})\", color=color)\n",
    "    plt.show()\n",
    "\n",
    "# Plot the first 25 images from the test set with predicted and actual labels\n",
    "plot_predictions(x_test, predictions, y_test, class_names, num_images=25)"
   ]
  },
  {
   "cell_type": "markdown",
   "metadata": {},
   "source": [
    "# Predict Custom Image\n",
    "Load a custom image, preprocess it, make a prediction using the trained model, and display the predicted label."
   ]
  },
  {
   "cell_type": "code",
   "execution_count": null,
   "metadata": {},
   "outputs": [],
   "source": [
    "# Predict Custom Image\n",
    "\n",
    "# Ścieżka do obrazu liczby\n",
    "image_path = 'custom_image.png'\n",
    "\n",
    "# Ładowanie obrazu i konwersja do skali szarości\n",
    "image = Image.open(image_path).convert('RGB')\n",
    "\n",
    "# Zmiana rozmiaru obrazu do 32x32 pikseli\n",
    "image = image.resize((32, 32))\n",
    "\n",
    "# Konwersja obrazu do tablicy NumPy i normalizacja wartości pikseli\n",
    "image_array = np.array(image) / 255.0\n",
    "\n",
    "# Wyświetlenie obrazu\n",
    "plt.imshow(image_array)\n",
    "plt.show()\n",
    "\n",
    "# Przekształcenie tablicy obrazu do odpowiedniego kształtu (1, 32, 32, 3)\n",
    "image_array = image_array.reshape(1, 32, 32, 3)\n",
    "\n",
    "# Dokonanie predykcji za pomocą modelu\n",
    "prediction = model.predict(image_array)\n",
    "\n",
    "# Wyznaczenie przewidywanej etykiety\n",
    "predicted_label = np.argmax(prediction)\n",
    "\n",
    "# Wyświetlenie przewidywanej etykiety\n",
    "print(f'Przewidywana etykieta: {class_names[predicted_label]}')"
   ]
  }
 ],
 "metadata": {
  "language_info": {
   "name": "python"
  }
 },
 "nbformat": 4,
 "nbformat_minor": 2
}
